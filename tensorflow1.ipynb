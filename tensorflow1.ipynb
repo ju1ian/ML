{
 "cells": [
  {
   "cell_type": "markdown",
   "metadata": {},
   "source": [
    "## Intro:\n",
    "\n",
    "One of the things which must be done: it would be nice to actually visualize the MNIST data set and the learning process. Doing so would make this notebook more rich."
   ]
  },
  {
   "cell_type": "code",
   "execution_count": 67,
   "metadata": {
    "button": false,
    "collapsed": false,
    "deletable": true,
    "run_control": {
     "read_only": false
    }
   },
   "outputs": [],
   "source": [
    "%matplotlib inline\n",
    "import tensorflow as tf\n",
    "import matplotlib.pyplot as plt\n",
    "import matplotlib.image as mpimg\n",
    "import numpy as np"
   ]
  },
  {
   "cell_type": "code",
   "execution_count": 68,
   "metadata": {
    "collapsed": false,
    "run_control": {}
   },
   "outputs": [
    {
     "name": "stdout",
     "output_type": "stream",
     "text": [
      "Extracting MNIST_data/train-images-idx3-ubyte.gz\n",
      "Extracting MNIST_data/train-labels-idx1-ubyte.gz\n",
      "Extracting MNIST_data/t10k-images-idx3-ubyte.gz\n",
      "Extracting MNIST_data/t10k-labels-idx1-ubyte.gz\n"
     ]
    }
   ],
   "source": [
    "from tensorflow.examples.tutorials.mnist import input_data\n",
    "mnist = input_data.read_data_sets(\"MNIST_data/\", one_hot=True)"
   ]
  },
  {
   "cell_type": "markdown",
   "metadata": {},
   "source": [
    "This is my 'hello world' to ML using tensorflow."
   ]
  },
  {
   "cell_type": "code",
   "execution_count": 69,
   "metadata": {
    "collapsed": true
   },
   "outputs": [],
   "source": [
    "# The number of pixels in each image is 784\n",
    "x = tf.placeholder(tf.float32,[None,784])\n",
    "# None means \"a dimension can be of any length\"??"
   ]
  },
  {
   "cell_type": "code",
   "execution_count": 70,
   "metadata": {
    "collapsed": true
   },
   "outputs": [],
   "source": [
    "# A variable is a modifiable tensor that lives in TensorFlow's graph\n",
    "# of interacting operations. Can be used and modified by\n",
    "# computation. We introduce variables for the weights and the bias. \n",
    "W = tf.Variable(tf.zeros([784, 10]))\n",
    "b = tf.Variable(tf.zeros([10]))"
   ]
  },
  {
   "cell_type": "markdown",
   "metadata": {},
   "source": [
    "Ok, cannot help but make a few comments here. Softmax essentially produces a Gibbs measure to predict outputs. The \"evidence\" for a given output is defined via\n",
    "\n",
    "$$ evidence_i = \\sum_j W_{i,j} x_j + b_i $$\n",
    "\n",
    "where $evidence_i$ may essentially be interpreted as the energy of the $i$th digit. Thus the matrix $W$ can be interpreted as a Hamiltonian, and the bias vector $b$ can be interpreted as a potential. The function $softmax(Wx +b)$ is then vector valued, with $i$th component given by \n",
    "\n",
    "$$ softmax(Wx + b)_i = \\frac{ \\exp((Wx + b)_i) }{ \\sum_{j} exp( (Wx + b)_j )} $$ \n",
    "\n",
    "For brevity, we denote the sum on the denominator $Z$. Note there is no temperature parameter, but this could be inserted into the model, and it's probably worth exploring what this does."
   ]
  },
  {
   "cell_type": "code",
   "execution_count": 71,
   "metadata": {
    "collapsed": true
   },
   "outputs": [],
   "source": [
    "# The softmax regression is defined in a single line:\n",
    "y = tf.nn.softmax(tf.matmul(x,W) + b)"
   ]
  },
  {
   "cell_type": "markdown",
   "metadata": {},
   "source": [
    "## Training"
   ]
  },
  {
   "cell_type": "markdown",
   "metadata": {},
   "source": [
    "We now define a cost / loss /error to be minimized. This will tell us how good or bad our model is. I think that in the context of the MIT book, this is our performance measure $P$. \n",
    "\n",
    "A common, nice function to work with is the $cross$-$entropy$, defined below. Below, $y$ will be predicted prob. dist, and $y'$ will be the true distribution (\"the one-hot vector with the digit labels\"). \n",
    "\n",
    "$$ H_{y'}(y) := -\\sum_i y_i' \\log(y_i) $$\n",
    "\n",
    "We now add a new placeholder to input the correct answers. "
   ]
  },
  {
   "cell_type": "code",
   "execution_count": 72,
   "metadata": {
    "collapsed": true
   },
   "outputs": [],
   "source": [
    "y_ = tf.placeholder(tf.float32,[None,10])"
   ]
  },
  {
   "cell_type": "code",
   "execution_count": 73,
   "metadata": {
    "collapsed": true
   },
   "outputs": [],
   "source": [
    "# Now we implement the cross-entropy\n",
    "cross_entropy = tf.reduce_mean(-tf.reduce_sum(y_ * tf.log(y), reduction_indices=[1]))\n",
    "\n",
    "# This is a cell we should understand much better. "
   ]
  },
  {
   "cell_type": "markdown",
   "metadata": {},
   "source": [
    "\"TensorFlow knows the entire graph of your computations, it can thus use the backpropagation algorithm (which is linked to, and which we should learn about) to efficiently determine how variables affect the loss = cross-entropy to be minimized. Then it can apply an optimization algorithm to modify the variables and reduce loss\"\n",
    "\n",
    "So.. backpropogation is for computing the loss, and optimization is for minimizing the loss?"
   ]
  },
  {
   "cell_type": "code",
   "execution_count": 74,
   "metadata": {
    "collapsed": true
   },
   "outputs": [],
   "source": [
    "# TensorFlow allows us to use Gradient Descent to optimize\n",
    "# the cross-entropy\n",
    "train_step = tf.train.GradientDescentOptimizer(0.5).minimize(cross_entropy)\n",
    "# The parameter .5 controls the \"learning rate\""
   ]
  },
  {
   "cell_type": "markdown",
   "metadata": {},
   "source": [
    "I have a question: what is the underlying graph that they keep speaking of?"
   ]
  },
  {
   "cell_type": "code",
   "execution_count": 75,
   "metadata": {
    "collapsed": false
   },
   "outputs": [],
   "source": [
    "# We must also create an operation to initialize \n",
    "# the variables we've created. \n",
    "\n",
    "init = tf.initialize_all_variables()\n",
    "# note that we use the above command instead of\n",
    "# tf.global_variables_initializer()  \n",
    "# written in the tut"
   ]
  },
  {
   "cell_type": "code",
   "execution_count": 76,
   "metadata": {
    "collapsed": true
   },
   "outputs": [],
   "source": [
    "# Can now initiate a \"Session\"\n",
    "\n",
    "sess = tf.Session()\n",
    "sess.run(init)"
   ]
  },
  {
   "cell_type": "code",
   "execution_count": 108,
   "metadata": {
    "collapsed": false
   },
   "outputs": [
    {
     "name": "stdout",
     "output_type": "stream",
     "text": [
      "The correct classification is...\n",
      "3\n",
      "The actual digit below:\n"
     ]
    },
    {
     "data": {
      "image/png": "[encoded data removed]",
      "text/plain": [
       "<matplotlib.figure.Figure at 0x131936e48>"
      ]
     },
     "metadata": {},
     "output_type": "display_data"
    }
   ],
   "source": [
    "# Let's play here a bit:\n",
    "# I want to display the randomly drawn sample. \n",
    "xs, ys = mnist.train.next_batch(1)\n",
    "# imgplot = plt.imshow(np.array(xs))\n",
    "# print(np.array(xs))\n",
    "# I believe that we need to convert \"xs\" from a length 784 array into\n",
    "# a 28 by 28 matrix. Is there a way to do this quickly in python?\n",
    "\n",
    "xs_matrix = np.reshape(xs,(28,28))\n",
    "imgplot = plt.imshow(np.array(xs_matrix))\n",
    "\n",
    "# Hell yeah. \n",
    "# http://matplotlib.org/users/image_tutorial.html\n",
    "print('The correct classification is...')\n",
    "print(np.argmax(ys[0]))\n",
    "print('The actual digit below:')"
   ]
  },
  {
   "cell_type": "code",
   "execution_count": 104,
   "metadata": {
    "collapsed": true
   },
   "outputs": [],
   "source": [
    "# We run the training step 1000 times\n",
    "# in each step, we randomly sample a batch of 100 data points from\n",
    "# the training set. We run the training step on this data\n",
    "\n",
    "# Using small batches of random data is called stochastic training,\n",
    "# in this case, stochastic gradient descent. Ideally, we'd like to be \n",
    "# using all of our data, but this is computationally expensive\n",
    "# so we just use a different, smaller and randomly selected\n",
    "# subset every time\n",
    "\n",
    "for i in range(1000):\n",
    "    batch_xs, batch_ys = mnist.train.next_batch(100)\n",
    "    sess.run(train_step, feed_dict={x: batch_xs, y_: batch_ys})"
   ]
  },
  {
   "cell_type": "markdown",
   "metadata": {},
   "source": [
    "## Evaluating Our Model "
   ]
  },
  {
   "cell_type": "code",
   "execution_count": 105,
   "metadata": {
    "collapsed": true
   },
   "outputs": [],
   "source": [
    "# We can use the argmax function to evaluate either the correct\n",
    "# classification or the predicted classification \n",
    "\n",
    "correct_prediction = tf.equal(tf.argmax(y,1), tf.argmax(y_,1))\n",
    "accuracy = tf.reduce_mean(tf.cast(correct_prediction, tf.float32))"
   ]
  },
  {
   "cell_type": "code",
   "execution_count": 106,
   "metadata": {
    "collapsed": false
   },
   "outputs": [
    {
     "name": "stdout",
     "output_type": "stream",
     "text": [
      "0.9231\n"
     ]
    }
   ],
   "source": [
    "print(sess.run(accuracy, feed_dict={x: mnist.test.images, y_: mnist.test.labels}))"
   ]
  },
  {
   "cell_type": "code",
   "execution_count": null,
   "metadata": {
    "collapsed": true
   },
   "outputs": [],
   "source": []
  }
 ],
 "metadata": {
  "anaconda-cloud": {},
  "kernelspec": {
   "display_name": "Python [tensorflow]",
   "language": "python",
   "name": "Python [tensorflow]"
  },
  "language_info": {
   "codemirror_mode": {
    "name": "ipython",
    "version": 3
   },
   "file_extension": ".py",
   "mimetype": "text/x-python",
   "name": "python",
   "nbconvert_exporter": "python",
   "pygments_lexer": "ipython3",
   "version": "3.5.2"
  }
 },
 "nbformat": 4,
 "nbformat_minor": 0
}
